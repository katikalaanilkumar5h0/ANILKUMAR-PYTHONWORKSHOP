{
 "cells": [
  {
   "cell_type": "code",
   "execution_count": null,
   "metadata": {},
   "outputs": [],
   "source": [
    "#To day Angend\n",
    "\n",
    "# use defind Function\n",
    "* string\n",
    "* List\n",
    "* tuble\n",
    "* sets\n"
   ]
  },
  {
   "cell_type": "code",
   "execution_count": null,
   "metadata": {},
   "outputs": [],
   "source": [
    "# user defined\n",
    "\n",
    "# block of statements to perfom pirtuclar task\n",
    "\n",
    "# code revsebility\n",
    "\n",
    "# time will save\n",
    "\n",
    "# def functionname (arguments/parameters):\n",
    "    #statements\n",
    "    \n",
    "# calling function\n",
    "\n",
    "# functionname(arguments/paratmeters)\n"
   ]
  },
  {
   "cell_type": "code",
   "execution_count": null,
   "metadata": {},
   "outputs": [],
   "source": [
    "# with arguments with returntype\n",
    "# without arguments with returntype\n",
    "# without arguments without returntype\n",
    "# with arguments  without returntype\n",
    "\n",
    "# required arguments/positional argument\n",
    "# keyword argument\n",
    "# variablelength argument"
   ]
  },
  {
   "cell_type": "code",
   "execution_count": null,
   "metadata": {},
   "outputs": [],
   "source": [
    "def sample():\n",
    "    pass\n",
    "print('python workshop')\n",
    "sample()"
   ]
  },
  {
   "cell_type": "code",
   "execution_count": null,
   "metadata": {},
   "outputs": [],
   "source": [
    "# with arguments with return type\n",
    "def add(a,b,c):\n",
    "    d=a+b+c\n",
    "    return('add of two num is',d)\n",
    "add(10,20,30)"
   ]
  },
  {
   "cell_type": "code",
   "execution_count": null,
   "metadata": {},
   "outputs": [],
   "source": [
    "# without arguments with return type\n",
    "def sub():\n",
    "    a=20\n",
    "    b=10\n",
    "    return a-b\n",
    "sub()"
   ]
  },
  {
   "cell_type": "code",
   "execution_count": null,
   "metadata": {},
   "outputs": [],
   "source": [
    "# without arguments without return type\n",
    "def mul():\n",
    "    n=20\n",
    "    m=10\n",
    "    print('miltiplication of %d * %d - %d '%(n,m,n*m))\n",
    "mul()\n",
    "          "
   ]
  },
  {
   "cell_type": "code",
   "execution_count": null,
   "metadata": {},
   "outputs": [],
   "source": [
    "# with arguments without return type\n",
    "\n",
    "def div(p,q):\n",
    "    print(p/q)\n",
    "div(10,20)"
   ]
  },
  {
   "cell_type": "code",
   "execution_count": null,
   "metadata": {},
   "outputs": [],
   "source": [
    "def sum1(a,b):\n",
    "    return 'sum of %d + %d + %d'%(a,b,a+b)\n",
    "a=int(input('enter value'))\n",
    "b=int(input('enter value'))\n",
    "sum1(a,b)"
   ]
  },
  {
   "cell_type": "code",
   "execution_count": null,
   "metadata": {},
   "outputs": [],
   "source": [
    "# requried/positional argument\n",
    "def interest(p,t,r):\n",
    "        total=p*t*r/100\n",
    "        return total\n",
    "p=int(input('enter principle amt :-'))\n",
    "t=float(input('enter time :-'))\n",
    "r=float(input('enter rate value :-'))\n",
    "print(p,t,r)\n"
   ]
  },
  {
   "cell_type": "code",
   "execution_count": null,
   "metadata": {},
   "outputs": [],
   "source": [
    "# keyword argument\n",
    "def simple(p,t,r):\n",
    "    total=p*t*r/100\n",
    "    return total\n",
    "p=int(input('enter principle amt :-'))\n",
    "t=float(input('enter time :-'))\n",
    "r=float(input('enter rate value :-'))\n",
    "simple(t=2.0,r=1.50,p=10000)\n",
    "simple(t=t,r=r,p=r) #dynamic"
   ]
  },
  {
   "cell_type": "code",
   "execution_count": null,
   "metadata": {},
   "outputs": [],
   "source": [
    "# default arguments\n",
    "def simple1(p=1000,t=2,r=3.0):\n",
    "    print(p*t*r/100)\n",
    "simple1()\n",
    "simple1(p=2000)"
   ]
  },
  {
   "cell_type": "code",
   "execution_count": null,
   "metadata": {},
   "outputs": [],
   "source": [
    "# variable argument\n",
    "def var_sum(*a):\n",
    "    s=0\n",
    "    for i in var_sum:\n",
    "        s+=i\n",
    "    print(s+=1)\n",
    "    print(a)\n",
    "var_sum(1,2,3,4,5,6)"
   ]
  },
  {
   "cell_type": "code",
   "execution_count": null,
   "metadata": {},
   "outputs": [],
   "source": [
    "# Strings\n",
    "\"\"\"\n",
    "\n",
    "---> Collection of character is called string\n",
    "\n",
    "-----> Group of character is called string\n",
    "\n",
    "----> in python string representation is  '' or \"\" or \"\"\"\"\"\"\n",
    "\n",
    "-----> in python string inmutable\n",
    "\n",
    "-----> in python string is indexed value based\n",
    "\n",
    "-----> string supports slicing operator---->':'\n",
    "\"\"\"\n",
    "\n",
    "a=''\n",
    "print(type(a))\n",
    "\n",
    "\n",
    "a=\"welcome to python\"\n",
    "print(a)\n",
    "\n",
    "# concatination of string\n",
    "\n",
    "b='workshop'\n",
    "c=a+b\n",
    "print(a+b) # a+= 'hello'\n",
    "\n",
    "# getting values \n",
    "print(a[0])\n",
    "print(a[1])\n",
    "\n",
    "#forward index and backward index\n",
    "\n",
    "# forward index\n",
    "\n",
    "print(a[0])\n",
    "print(a[5])\n",
    "\n",
    "# backword index\n",
    "s=\"welcome to python\"\n",
    "print(s[-1])\n",
    "print(s[-5])\n",
    "\n",
    "# slicing operator--->:\n",
    "\n",
    "name='python programming'\n",
    "print(name[0:6])\n",
    "print(name[4:6])\n",
    "print(name[::-1])\n",
    "print(name[::-4])\n",
    "print(name[0:17:2])\n",
    "print(name[6:7])\n",
    "print(name[0:])\n",
    "''''''\n",
    "# String Methods 3 ways\n",
    "# by using datatype---->str\n",
    "#print(dir(str))\n",
    "#n=''\n",
    "#print(dir(n))\n",
    "\n",
    "#m='hello'\n",
    "#print(dir(m))\n",
    "\n",
    "p='WelcoMe tO apSSdc'\n",
    "#print(p.capitalize())\n",
    "#print(p.casefold())\n",
    "#print(p.swapcase())\n",
    "#print(p.count('S'))\n",
    "#print(p.index('p'))\n",
    "#print(p.find('e'))\n",
    "#print(p.find('x'))\n",
    "#print(p.center(100,'*'))\n",
    "#print('My name is (0) & i am from (1)',format('abc','xyz'))\n",
    "#print(p.upper())\n",
    "#print(p.iower())\n",
    "#print(p.title())\n",
    "print(p.isupper())\n",
    "print(p.islower())\n",
    "print(p.startswith('w'))\n",
    "print(p.endswith('c'))\n",
    "print(p.istitle())\n",
    "q='<---'\n",
    "print(q.join(p))\n",
    "print(p.isdigit())\n",
    "print(p.isalpha())\n",
    "print(p.isalnum())\n",
    "print('python\\tprogramming\\tworkshop'.expandtabs())\n",
    "''''split,\n",
    "splitlines,\n",
    "strip,\n",
    "lstrip,\n",
    "rstrip'''\n",
    "\n",
    "print(p.split())\n",
    "print(p.strip())\n",
    "\n",
    "print(p.lstrip())\n",
    "print(p.rstrip())"
   ]
  },
  {
   "cell_type": "code",
   "execution_count": null,
   "metadata": {},
   "outputs": [],
   "source": [
    "# Data starcture concpts\n",
    "# lists\n",
    "# tuples\n",
    "# Dictionary\n",
    "# sets"
   ]
  },
  {
   "cell_type": "code",
   "execution_count": null,
   "metadata": {},
   "outputs": [],
   "source": [
    "# list\n",
    "# list is a collection of hetrogenous data elements\n",
    "# list is mutable\n",
    "# list representation []\n",
    "#list supports slicing-->:\n",
    "\n",
    "# syntax\n",
    "\n",
    "# varablename=[]"
   ]
  },
  {
   "cell_type": "code",
   "execution_count": null,
   "metadata": {},
   "outputs": [],
   "source": [
    "l1=[1,2,3,'hi','hello',10,25]\n",
    "l1"
   ]
  },
  {
   "cell_type": "code",
   "execution_count": null,
   "metadata": {},
   "outputs": [],
   "source": [
    "l2=[4,5,6,'hru']\n",
    "l3=l1+l2\n",
    "print(l3)"
   ]
  },
  {
   "cell_type": "code",
   "execution_count": null,
   "metadata": {},
   "outputs": [],
   "source": [
    "# forward index\n",
    "l3[3]\n",
    "l3[6]\n",
    "# backword index\n",
    "l3[-1]\n",
    "l3[-4]\n",
    "\n",
    "# list slicing\n",
    "\n",
    "l3[3:5]\n",
    "\n",
    "l3[::-1]"
   ]
  },
  {
   "cell_type": "code",
   "execution_count": null,
   "metadata": {},
   "outputs": [],
   "source": [
    "# appends\n",
    "\n",
    "l3.append([11,12])\n",
    "\n",
    "l3.append([13,13,15])"
   ]
  },
  {
   "cell_type": "code",
   "execution_count": null,
   "metadata": {},
   "outputs": [],
   "source": [
    "# insert\n",
    "s=['a','u']\n",
    "\n",
    "s.insert('1','e')\n",
    "s.insert('2','i')\n",
    "s.insert('4','u')\n",
    "s"
   ]
  },
  {
   "cell_type": "code",
   "execution_count": null,
   "metadata": {},
   "outputs": [],
   "source": [
    "# difference b/w pop,remove,del\n",
    "# pop()---->last in firstin\n",
    "# remove()---->value based\n",
    "# del--->index value based"
   ]
  },
  {
   "cell_type": "code",
   "execution_count": null,
   "metadata": {},
   "outputs": [],
   "source": [
    "l3.pop()"
   ]
  },
  {
   "cell_type": "code",
   "execution_count": null,
   "metadata": {},
   "outputs": [],
   "source": [
    "l3.remove('hi')"
   ]
  },
  {
   "cell_type": "code",
   "execution_count": null,
   "metadata": {},
   "outputs": [],
   "source": [
    "l3"
   ]
  },
  {
   "cell_type": "code",
   "execution_count": null,
   "metadata": {},
   "outputs": [],
   "source": [
    "# sort\n",
    "l4=[4,7,8,1,6,9,1]\n",
    "l4.sort()\n",
    "l4"
   ]
  },
  {
   "cell_type": "code",
   "execution_count": null,
   "metadata": {},
   "outputs": [],
   "source": [
    "# reverse\n",
    "l4.sort(reverse=false)\n",
    "l4."
   ]
  },
  {
   "cell_type": "code",
   "execution_count": null,
   "metadata": {},
   "outputs": [],
   "source": [
    "# copy 1. =, 2. copy method\n",
    "l5=l3\n",
    "l5\n",
    "l3"
   ]
  },
  {
   "cell_type": "code",
   "execution_count": null,
   "metadata": {},
   "outputs": [],
   "source": [
    "l6=l3.copy()\n",
    "l6"
   ]
  },
  {
   "cell_type": "code",
   "execution_count": null,
   "metadata": {},
   "outputs": [],
   "source": [
    "l3.append(l4)\n",
    "l3"
   ]
  },
  {
   "cell_type": "code",
   "execution_count": null,
   "metadata": {},
   "outputs": [],
   "source": [
    "l5"
   ]
  },
  {
   "cell_type": "code",
   "execution_count": null,
   "metadata": {},
   "outputs": [],
   "source": [
    "l6"
   ]
  },
  {
   "cell_type": "code",
   "execution_count": null,
   "metadata": {},
   "outputs": [],
   "source": [
    "l3.clear()\n",
    "l3"
   ]
  },
  {
   "cell_type": "code",
   "execution_count": null,
   "metadata": {},
   "outputs": [],
   "source": []
  },
  {
   "cell_type": "code",
   "execution_count": null,
   "metadata": {},
   "outputs": [],
   "source": [
    "# Tuples\n",
    "\n",
    "# tuples is a collection of hetrogenous data elements\n",
    "# tuples is mutable\n",
    "# tuples reprsentation []\n",
    "# tuples supports string--->:\n",
    "\n",
    "# syntax\n",
    "# variable=()"
   ]
  },
  {
   "cell_type": "code",
   "execution_count": null,
   "metadata": {},
   "outputs": [],
   "source": [
    "tup=()\n",
    "type(tup)"
   ]
  },
  {
   "cell_type": "code",
   "execution_count": null,
   "metadata": {},
   "outputs": [],
   "source": [
    "tup=(1,2,'welcome','workshop',45,25,4,6)\n",
    "type(tup)\n",
    "tup"
   ]
  },
  {
   "cell_type": "code",
   "execution_count": null,
   "metadata": {},
   "outputs": [],
   "source": [
    "tup[2]\n",
    "tup[5]\n",
    "tup[-2]\n",
    "tup[-5]\n",
    "tup[0:]\n",
    "tup[:]\n",
    "tup[::-1]"
   ]
  },
  {
   "cell_type": "code",
   "execution_count": null,
   "metadata": {},
   "outputs": [],
   "source": [
    "#tuple of methods\n",
    "dir(tup)"
   ]
  },
  {
   "cell_type": "code",
   "execution_count": null,
   "metadata": {},
   "outputs": [],
   "source": [
    "# packing and unpacking\n",
    "emp=('Ao0645','abc','developer','apssdc','ong')\n",
    "(eid,name,disg,comp,place)=emp\n",
    "\n",
    "print(eid)\n",
    "print(comp)"
   ]
  },
  {
   "cell_type": "code",
   "execution_count": null,
   "metadata": {},
   "outputs": [],
   "source": [
    "tup[2]=3\n",
    "tup"
   ]
  },
  {
   "cell_type": "code",
   "execution_count": null,
   "metadata": {},
   "outputs": [],
   "source": [
    "# Dictionary \n",
    "# Dictionary is a unorder collection of different data item\n",
    "# Dictionary we have 2 parts those are key & value\n",
    "# key is fixed\n",
    "# value is change\n",
    "# Dictionary representation--->()\n",
    "\n",
    "# syntax\n",
    "\n",
    "# varname-->(key:value)\n"
   ]
  },
  {
   "cell_type": "code",
   "execution_count": null,
   "metadata": {},
   "outputs": [],
   "source": [
    "address=('name','sai','place','ongole')\n",
    "address"
   ]
  },
  {
   "cell_type": "code",
   "execution_count": null,
   "metadata": {},
   "outputs": [],
   "source": [
    "adress=['pincode']=52002\n"
   ]
  },
  {
   "cell_type": "code",
   "execution_count": null,
   "metadata": {},
   "outputs": [],
   "source": [
    "address.key()"
   ]
  },
  {
   "cell_type": "code",
   "execution_count": null,
   "metadata": {},
   "outputs": [],
   "source": [
    "address.value()"
   ]
  },
  {
   "cell_type": "code",
   "execution_count": null,
   "metadata": {},
   "outputs": [],
   "source": [
    "address.item()\n"
   ]
  },
  {
   "cell_type": "code",
   "execution_count": null,
   "metadata": {},
   "outputs": [],
   "source": [
    "address.pop('place')"
   ]
  },
  {
   "cell_type": "code",
   "execution_count": null,
   "metadata": {},
   "outputs": [],
   "source": [
    "address2=('place':'ongole':'pincode':'523001','street':'xyz')\n",
    "address2"
   ]
  },
  {
   "cell_type": "code",
   "execution_count": null,
   "metadata": {},
   "outputs": [],
   "source": [
    "address.update(address2)\n",
    "address"
   ]
  },
  {
   "cell_type": "code",
   "execution_count": null,
   "metadata": {},
   "outputs": [],
   "source": [
    "address3=dict.fromkeys(address,'fields')\n",
    "address3"
   ]
  },
  {
   "cell_type": "code",
   "execution_count": null,
   "metadata": {},
   "outputs": [],
   "source": [
    "# set\n",
    "\n",
    "# syntax\n",
    "# var={1,2,3,4}\n"
   ]
  },
  {
   "cell_type": "code",
   "execution_count": null,
   "metadata": {},
   "outputs": [],
   "source": [
    "a={1,2,3,4,5,6,7,8,9,5,10,11}\n",
    "a"
   ]
  },
  {
   "cell_type": "code",
   "execution_count": null,
   "metadata": {},
   "outputs": [],
   "source": [
    "b={10,11,12,13,14}\n",
    "b"
   ]
  },
  {
   "cell_type": "code",
   "execution_count": null,
   "metadata": {},
   "outputs": [],
   "source": [
    "dir(a)"
   ]
  },
  {
   "cell_type": "code",
   "execution_count": null,
   "metadata": {},
   "outputs": [],
   "source": [
    "a.union(b)"
   ]
  },
  {
   "cell_type": "code",
   "execution_count": null,
   "metadata": {},
   "outputs": [],
   "source": [
    "a.intersection(b)"
   ]
  },
  {
   "cell_type": "code",
   "execution_count": null,
   "metadata": {},
   "outputs": [],
   "source": [
    "a.difference(b)\n",
    "b.difference(a)"
   ]
  },
  {
   "cell_type": "code",
   "execution_count": null,
   "metadata": {},
   "outputs": [],
   "source": [
    "a.add(9)\n",
    "a"
   ]
  },
  {
   "cell_type": "code",
   "execution_count": null,
   "metadata": {},
   "outputs": [],
   "source": [
    "a.discard(11)\n",
    "a"
   ]
  },
  {
   "cell_type": "code",
   "execution_count": null,
   "metadata": {},
   "outputs": [],
   "source": [
    "a.pop()"
   ]
  },
  {
   "cell_type": "code",
   "execution_count": null,
   "metadata": {},
   "outputs": [],
   "source": [
    "# list comphesions\n",
    "# written single line of code\n",
    "\n",
    "for temp in range(0,10):\n",
    "    print(temp)\n",
    "    \n",
    "d=[i for i in range(0,10)]\n",
    "d\n",
    "list(i for i in range(0,20+1))\n",
    "\n",
    "list(i for i in range(0,50+1) if i%2==0)\n",
    "\n",
    "list(i for i in range(0,50+1) if i%2==1)\n",
    "\n"
   ]
  },
  {
   "cell_type": "code",
   "execution_count": null,
   "metadata": {},
   "outputs": [],
   "source": [
    "# Regular Experssions\n",
    "\n",
    "# package & modules\n"
   ]
  },
  {
   "cell_type": "code",
   "execution_count": null,
   "metadata": {},
   "outputs": [],
   "source": [
    "# Regular Experssion\n",
    "\n",
    "# Regular experssion is nothing patterns\n",
    "\n",
    "# in regular experssion we can impliment\n",
    "# password,email,phone number validations\n",
    "\n",
    "\\d--->matchs digits\n",
    "\\D--->except digits\n",
    "\n",
    "\\W--->special symbols\n",
    "\\w--->except special symbols\n",
    "\n",
    "# we will use regular expression we can import re module\n",
    "\n",
    "# methods are search findout,match\n",
    "\n",
    "# syntax regular expression\n",
    "# modulename"
   ]
  },
  {
   "cell_type": "code",
   "execution_count": 1,
   "metadata": {},
   "outputs": [],
   "source": [
    "import re\n",
    "\n",
    "re.search('^kn','knowledgenonviolance')\n",
    "\n",
    "re.search('e$','knowledgenonviolance')\n",
    "\n",
    "re.search('.','knowledgenonviolence')\n",
    "\n",
    "re.search('\\s','knowledge & nonviolence')\n",
    "\n",
    "re.findall('\\s','knownledge & nonviolence')\n",
    "\n",
    "re.findall('\\S','knowledge & nonviolence')\n",
    "\n",
    "re.findall('\\d','12ma1a0558')\n",
    "\n",
    "re.findall('\\D','12ma1a0558')\n",
    "\n",
    "re.findall('\\W','anil.p@pssdc.in')\n",
    "\n",
    "re.findall('\\w','123anil_.p@pssdc.in')\n",
    "\n",
    "# mobileno\n",
    "\n",
    "re.search('^[6-9][0-9]{9}$|^[0][6-9][0-9]{9}$ | [+][9][1][6-9][0-9]{9}$','08949066789')"
   ]
  },
  {
   "cell_type": "code",
   "execution_count": null,
   "metadata": {},
   "outputs": [],
   "source": []
  }
 ],
 "metadata": {
  "kernelspec": {
   "display_name": "Python 3",
   "language": "python",
   "name": "python3"
  },
  "language_info": {
   "codemirror_mode": {
    "name": "ipython",
    "version": 3
   },
   "file_extension": ".py",
   "mimetype": "text/x-python",
   "name": "python",
   "nbconvert_exporter": "python",
   "pygments_lexer": "ipython3",
   "version": "3.8.5"
  }
 },
 "nbformat": 4,
 "nbformat_minor": 4
}
