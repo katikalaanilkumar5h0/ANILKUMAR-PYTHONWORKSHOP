{
 "cells": [
  {
   "cell_type": "markdown",
   "metadata": {},
   "source": [
    "# To Day Agenda\n",
    "\n",
    "* Exectutionb of Commands in Python Shell\n",
    "* Date types\n",
    "    * int\n",
    "    * float\n",
    "    * boolen\n",
    "    * complex\n",
    "    * str\n",
    "    \n",
    " * i/p And o/p\n",
    " \n",
    " * Program Execution in idle\n",
    " \n",
    " * Program Execution in command prompt\n",
    " \n",
    " * Git Hub Account Creation\n",
    " "
   ]
  },
  {
   "cell_type": "code",
   "execution_count": null,
   "metadata": {},
   "outputs": [],
   "source": []
  }
 ],
 "metadata": {
  "kernelspec": {
   "display_name": "Python 3",
   "language": "python",
   "name": "python3"
  },
  "language_info": {
   "codemirror_mode": {
    "name": "ipython",
    "version": 3
   },
   "file_extension": ".py",
   "mimetype": "text/x-python",
   "name": "python",
   "nbconvert_exporter": "python",
   "pygments_lexer": "ipython3",
   "version": "3.8.5"
  }
 },
 "nbformat": 4,
 "nbformat_minor": 4
}
