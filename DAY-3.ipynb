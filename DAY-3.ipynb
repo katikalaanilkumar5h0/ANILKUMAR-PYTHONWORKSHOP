{
 "cells": [
  {
   "cell_type": "code",
   "execution_count": null,
   "metadata": {},
   "outputs": [],
   "source": []
  },
  {
   "cell_type": "code",
   "execution_count": null,
   "metadata": {},
   "outputs": [],
   "source": [
    "# jumping statements\n",
    "\n",
    "#break,continue,pass\n",
    "\n",
    "s='hello'\n",
    "for i in s:\n",
    "    if i=='l':\n",
    "        break\n",
    "        print(i)\n",
    "        \n",
    "s='hello'\n",
    "for i in s:\n",
    "    if i=='l':\n",
    "        continue\n",
    "        print(i)"
   ]
  },
  {
   "cell_type": "code",
   "execution_count": null,
   "metadata": {},
   "outputs": [],
   "source": [
    "def name:\n",
    "    pass"
   ]
  },
  {
   "cell_type": "code",
   "execution_count": null,
   "metadata": {},
   "outputs": [],
   "source": [
    "# Function 3types\n",
    "\n",
    "* predefined\n",
    "# print,input,type,ord,chr,bin,sum,max,min,round,sorted,\n",
    "* user defined\n",
    "\n",
    "* special defined"
   ]
  },
  {
   "cell_type": "code",
   "execution_count": null,
   "metadata": {},
   "outputs": [],
   "source": [
    "a=\"python workshop\"\n",
    "b=[1,2,3,4,5]\n",
    "len(a)\n",
    "type(a)\n",
    "ord('z')\n",
    "bin(5)\n",
    "sum(b)\n",
    "max(a)\n",
    "min(a)\n",
    "round(10.5)\n",
    "sorted(a)\n",
    "all(c)\n"
   ]
  },
  {
   "cell_type": "code",
   "execution_count": 1,
   "metadata": {},
   "outputs": [
    {
     "name": "stdout",
     "output_type": "stream",
     "text": [
      "Enter the any kind of data:-12abc\n",
      "12abc is digit\n"
     ]
    }
   ],
   "source": [
    "data=input('Enter the any kind of data:-')\n",
    "dig=data[0]\n",
    "if data>='a' and data<='z' or data >='A' and data<='Z':\n",
    "    print(data,'alphabet')\n",
    "elif data>='0' and data<='9':\n",
    "    print(data,'is digit')\n",
    "else:\n",
    "    print(data,'special character')"
   ]
  },
  {
   "cell_type": "code",
   "execution_count": 2,
   "metadata": {},
   "outputs": [
    {
     "name": "stdout",
     "output_type": "stream",
     "text": [
      "enter u name:-anil\n",
      "enter pwd :-········\n",
      "welcome anil\n"
     ]
    }
   ],
   "source": [
    "from getpass import getpass\n",
    "uname=input('enter u name:-')\n",
    "pwd=getpass ('enter pwd :-')\n",
    "\n",
    "if uname=='anil'and pwd==\"anil143\":\n",
    "    print('welcome',uname)\n",
    "else:\n",
    "    print('invalid uname or password')"
   ]
  },
  {
   "cell_type": "code",
   "execution_count": 3,
   "metadata": {},
   "outputs": [
    {
     "name": "stdout",
     "output_type": "stream",
     "text": [
      "Enter no of tables2\n",
      "Enter table multiples5\n",
      "1 * 1 = 1\n",
      "1 * 1 = 1\n",
      "1 * 2 = 2\n",
      "1 * 2 = 2\n",
      "\n",
      "\n",
      "2 * 1 = 2\n",
      "2 * 1 = 2\n",
      "2 * 2 = 4\n",
      "2 * 2 = 4\n",
      "\n",
      "\n"
     ]
    }
   ],
   "source": [
    "t=int(input('Enter no of tables'))\n",
    "n=int(input('Enter table multiples'))\n",
    "for i in range(1,t+1):\n",
    "    for j in range(1,t+1):\n",
    "        print(i,'*',j,'=',i*j)\n",
    "        print('%d * %d = %d'%(i,j,i*j))\n",
    "    print('\\n')\n",
    "              "
   ]
  },
  {
   "cell_type": "code",
   "execution_count": 4,
   "metadata": {},
   "outputs": [
    {
     "name": "stdout",
     "output_type": "stream",
     "text": [
      "Enter no of tables5\n",
      "Enter table multiples10\n",
      "1 * 1 = 1\t2 * 1 = 2\t3 * 1 = 3\t4 * 1 = 4\t5 * 1 = 5\t6 * 1 = 6\t7 * 1 = 7\t8 * 1 = 8\t9 * 1 = 9\t10 * 1 = 10\t\n",
      "\n",
      "1 * 2 = 2\t2 * 2 = 4\t3 * 2 = 6\t4 * 2 = 8\t5 * 2 = 10\t6 * 2 = 12\t7 * 2 = 14\t8 * 2 = 16\t9 * 2 = 18\t10 * 2 = 20\t\n",
      "\n",
      "1 * 3 = 3\t2 * 3 = 6\t3 * 3 = 9\t4 * 3 = 12\t5 * 3 = 15\t6 * 3 = 18\t7 * 3 = 21\t8 * 3 = 24\t9 * 3 = 27\t10 * 3 = 30\t\n",
      "\n",
      "1 * 4 = 4\t2 * 4 = 8\t3 * 4 = 12\t4 * 4 = 16\t5 * 4 = 20\t6 * 4 = 24\t7 * 4 = 28\t8 * 4 = 32\t9 * 4 = 36\t10 * 4 = 40\t\n",
      "\n",
      "1 * 5 = 5\t2 * 5 = 10\t3 * 5 = 15\t4 * 5 = 20\t5 * 5 = 25\t6 * 5 = 30\t7 * 5 = 35\t8 * 5 = 40\t9 * 5 = 45\t10 * 5 = 50\t\n",
      "\n"
     ]
    }
   ],
   "source": [
    "t=int(input('Enter no of tables'))\n",
    "m=int(input('Enter table multiples'))\n",
    "for j in range(1,t+1):\n",
    "    for i in range(1,m+1):\n",
    "        print(i,'*',j,'=',i*j,end='\\t')\n",
    "    print('\\n')"
   ]
  },
  {
   "cell_type": "code",
   "execution_count": 6,
   "metadata": {},
   "outputs": [
    {
     "name": "stdout",
     "output_type": "stream",
     "text": [
      "Enter value10\n",
      "1\n",
      "2\n",
      "5\n",
      "10\n"
     ]
    }
   ],
   "source": [
    "# find factorial number using forloop and whileloop\n",
    "n=int(input('Enter value'))\n",
    "for f in range(1,n+i):\n",
    "    if n%f==0:\n",
    "        print(f)"
   ]
  },
  {
   "cell_type": "code",
   "execution_count": null,
   "metadata": {},
   "outputs": [],
   "source": []
  },
  {
   "cell_type": "code",
   "execution_count": null,
   "metadata": {},
   "outputs": [],
   "source": []
  }
 ],
 "metadata": {
  "kernelspec": {
   "display_name": "Python 3",
   "language": "python",
   "name": "python3"
  },
  "language_info": {
   "codemirror_mode": {
    "name": "ipython",
    "version": 3
   },
   "file_extension": ".py",
   "mimetype": "text/x-python",
   "name": "python",
   "nbconvert_exporter": "python",
   "pygments_lexer": "ipython3",
   "version": "3.8.5"
  }
 },
 "nbformat": 4,
 "nbformat_minor": 4
}
